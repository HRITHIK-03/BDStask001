{
 "cells": [
  {
   "cell_type": "code",
   "execution_count": 4,
   "id": "e82e75f0",
   "metadata": {},
   "outputs": [
    {
     "name": "stdout",
     "output_type": "stream",
     "text": [
      "HELLO WORLD\n"
     ]
    }
   ],
   "source": [
    " a = 'hello world'\n",
    "print(a.upper())\n"
   ]
  },
  {
   "cell_type": "code",
   "execution_count": 2,
   "id": "cb2782fa",
   "metadata": {},
   "outputs": [
    {
     "name": "stdout",
     "output_type": "stream",
     "text": [
      "[1, 2, 4.5, 'Hrithik']\n",
      "[1, 2, 4.5, 'Hrithik']\n"
     ]
    }
   ],
   "source": [
    "hrit_list=[1,2,4.5,\"Hrithik\"]\n",
    "hrit_1_list=hrit_list.copy()\n",
    "print(hrit_list)\n",
    "print(hrit_1_list)"
   ]
  },
  {
   "cell_type": "code",
   "execution_count": 3,
   "id": "62045c0a",
   "metadata": {},
   "outputs": [
    {
     "name": "stdout",
     "output_type": "stream",
     "text": [
      "[1, 2, 4.5, 'Hrithik', 'Mouse']\n",
      "[1, 2, 4.5, 'Hrithik', 'Horse']\n"
     ]
    }
   ],
   "source": [
    "hrit_list=[1,2,4.5,\"Hrithik\"]\n",
    "hrit_1_list=hrit_list.copy()\n",
    "hrit_1_list.append(\"Horse\")\n",
    "hrit_list.append(\"Mouse\")\n",
    "print(hrit_list)\n",
    "print(hrit_1_list)"
   ]
  },
  {
   "cell_type": "code",
   "execution_count": 5,
   "id": "16909767",
   "metadata": {},
   "outputs": [
    {
     "name": "stdout",
     "output_type": "stream",
     "text": [
      "[1, 2, 5, 4.5, 'Hrithik']\n"
     ]
    }
   ],
   "source": [
    "hrit_list=[1,2,4.5,\"Hrithik\"]\n",
    "hrit_list.insert(2,5)\n",
    "print(hrit_list)"
   ]
  },
  {
   "cell_type": "code",
   "execution_count": 8,
   "id": "2083b8af",
   "metadata": {},
   "outputs": [
    {
     "name": "stdout",
     "output_type": "stream",
     "text": [
      "to\n"
     ]
    }
   ],
   "source": [
    "str1=\"Welcome to python\"\n",
    "str2=str1[8:10:1]\n",
    "print(str2)"
   ]
  },
  {
   "cell_type": "code",
   "execution_count": null,
   "id": "b7208ead",
   "metadata": {},
   "outputs": [],
   "source": []
  },
  {
   "cell_type": "code",
   "execution_count": null,
   "id": "5ed94eee",
   "metadata": {},
   "outputs": [],
   "source": []
  },
  {
   "cell_type": "code",
   "execution_count": null,
   "id": "2448b159",
   "metadata": {},
   "outputs": [],
   "source": []
  },
  {
   "cell_type": "code",
   "execution_count": null,
   "id": "37d6e6cc",
   "metadata": {},
   "outputs": [],
   "source": []
  },
  {
   "cell_type": "code",
   "execution_count": null,
   "id": "29409029",
   "metadata": {},
   "outputs": [],
   "source": []
  }
 ],
 "metadata": {
  "kernelspec": {
   "display_name": "Python 3",
   "language": "python",
   "name": "python3"
  },
  "language_info": {
   "codemirror_mode": {
    "name": "ipython",
    "version": 3
   },
   "file_extension": ".py",
   "mimetype": "text/x-python",
   "name": "python",
   "nbconvert_exporter": "python",
   "pygments_lexer": "ipython3",
   "version": "3.8.8"
  }
 },
 "nbformat": 4,
 "nbformat_minor": 5
}
