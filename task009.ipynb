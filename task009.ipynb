{
 "cells": [
  {
   "cell_type": "code",
   "execution_count": 5,
   "id": "5f4afa0f",
   "metadata": {},
   "outputs": [
    {
     "name": "stdout",
     "output_type": "stream",
     "text": [
      "Enter a no.10\n",
      "Enter a no.5\n"
     ]
    }
   ],
   "source": [
    "#task 9\n",
    "a=int(input(\"Enter a no.\"))\n",
    "b=int(input(\"Enter a no.\"))"
   ]
  },
  {
   "cell_type": "code",
   "execution_count": 7,
   "id": "69efcf03",
   "metadata": {},
   "outputs": [
    {
     "name": "stdout",
     "output_type": "stream",
     "text": [
      "Press 1 for addition, 2 for subtraction ,  for multiplication or Division   =  3\n",
      "50\n"
     ]
    }
   ],
   "source": [
    "num=int(input(\"Press 1 for addition, 2 for subtraction ,  for multiplication or Division   =  \"))\n",
    "if(num==1):\n",
    "    print(a+b)\n",
    "elif(num==2):\n",
    "        print(a-b)\n",
    "elif(num==3):\n",
    "            print(a*b)\n",
    "elif(num==4):\n",
    "                print(a/b)\n",
    "else:\n",
    "                    print(\"Wrong Choice\")\n",
    "    "
   ]
  },
  {
   "cell_type": "code",
   "execution_count": null,
   "id": "2d9e3c5f",
   "metadata": {},
   "outputs": [],
   "source": []
  }
 ],
 "metadata": {
  "kernelspec": {
   "display_name": "Python 3",
   "language": "python",
   "name": "python3"
  },
  "language_info": {
   "codemirror_mode": {
    "name": "ipython",
    "version": 3
   },
   "file_extension": ".py",
   "mimetype": "text/x-python",
   "name": "python",
   "nbconvert_exporter": "python",
   "pygments_lexer": "ipython3",
   "version": "3.8.8"
  }
 },
 "nbformat": 4,
 "nbformat_minor": 5
}
