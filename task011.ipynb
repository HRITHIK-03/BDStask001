{
 "cells": [
  {
   "cell_type": "code",
   "execution_count": 2,
   "id": "caf4f9e1",
   "metadata": {},
   "outputs": [
    {
     "data": {
      "text/plain": [
       "'\\nReturn keyword is used to return the control of the program when the desired set of code is executed within a function.\\nIt could also be used to return values from a function'"
      ]
     },
     "execution_count": 2,
     "metadata": {},
     "output_type": "execute_result"
    }
   ],
   "source": [
    "\"\"\"\n",
    "Return keyword is used to return the control of the program when the desired set of code is executed within a function.\n",
    "It could also be used to return values from a function\"\"\""
   ]
  },
  {
   "cell_type": "code",
   "execution_count": 18,
   "id": "6b980a46",
   "metadata": {},
   "outputs": [],
   "source": [
    "def product(x,y):\n",
    "    z = x * y\n",
    "    return z"
   ]
  },
  {
   "cell_type": "code",
   "execution_count": 19,
   "id": "b036978d",
   "metadata": {},
   "outputs": [
    {
     "data": {
      "text/plain": [
       "20"
      ]
     },
     "execution_count": 19,
     "metadata": {},
     "output_type": "execute_result"
    }
   ],
   "source": [
    "my_num = product(10,2)\n",
    "my_num"
   ]
  },
  {
   "cell_type": "code",
   "execution_count": null,
   "id": "5d5bb4db",
   "metadata": {},
   "outputs": [],
   "source": []
  }
 ],
 "metadata": {
  "kernelspec": {
   "display_name": "Python 3",
   "language": "python",
   "name": "python3"
  },
  "language_info": {
   "codemirror_mode": {
    "name": "ipython",
    "version": 3
   },
   "file_extension": ".py",
   "mimetype": "text/x-python",
   "name": "python",
   "nbconvert_exporter": "python",
   "pygments_lexer": "ipython3",
   "version": "3.8.8"
  }
 },
 "nbformat": 4,
 "nbformat_minor": 5
}
