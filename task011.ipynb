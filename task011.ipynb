{
 "cells": [
  {
   "cell_type": "code",
   "execution_count": 2,
   "id": "d8bbb44b",
   "metadata": {},
   "outputs": [
    {
     "data": {
      "text/plain": [
       "'\\nReturn keyword is used to return the control of the program when the desired set of code is executed within a function.\\nIt could also be used to return values from a function'"
      ]
     },
     "execution_count": 2,
     "metadata": {},
     "output_type": "execute_result"
    }
   ],
   "source": [
    "\"\"\"\n",
    "Return keyword is used to return the control of the program when the desired set of code is executed within a function.\n",
    "It could also be used to return values from a function\"\"\""
   ]
  },
  {
   "cell_type": "code",
   "execution_count": 18,
   "id": "dc02f535",
   "metadata": {},
   "outputs": [],
   "source": [
    "def product(x,y):\n",
    "    z = x * y\n",
    "    return z"
   ]
  },
  {
   "cell_type": "code",
   "execution_count": 19,
   "id": "ec1c43d5",
   "metadata": {},
   "outputs": [
    {
     "data": {
      "text/plain": [
       "20"
      ]
     },
     "execution_count": 19,
     "metadata": {},
     "output_type": "execute_result"
    }
   ],
   "source": [
    "my_num = product(10,2)\n",
    "my_num"
   ]
  },
  {
   "cell_type": "code",
   "execution_count": 20,
   "id": "ab3722ae",
   "metadata": {},
   "outputs": [],
   "source": [
    "def add(x,y):\n",
    "    return x+y\n",
    "def sub(x,y):\n",
    "    return x-y\n",
    "def multi(x,y):\n",
    "    return x*y\n",
    "def div(x,y):\n",
    "    return x/y\n",
    "\n"
   ]
  },
  {
   "cell_type": "code",
   "execution_count": 22,
   "id": "2c7e62b0",
   "metadata": {},
   "outputs": [
    {
     "name": "stdout",
     "output_type": "stream",
     "text": [
      "Enter a no.   =15\n",
      "Entera no.    =5\n",
      "Press 1 for addition, 2 for subtraction ,  for multiplication or Division   =  4\n",
      "3.0\n"
     ]
    }
   ],
   "source": [
    "#11.2\n",
    "num1=int(input(\"Enter a no.   =\"))\n",
    "num2=int(input(\"Entera no.    =\"))\n",
    "num=int(input(\"Press 1 for addition, 2 for subtraction ,  for multiplication or Division   =  \"))\n",
    "if(num==1):\n",
    "    print(add(num1,num2))\n",
    "elif(num==2):\n",
    "    print(sub(num1,num2))\n",
    "elif(num==3):\n",
    "    print(multi(num1,num2))\n",
    "elif(num==4):\n",
    "    print(div(num1,num2))\n",
    "else:\n",
    "    printf(\"Wrong Choice\")"
   ]
  },
  {
   "cell_type": "code",
   "execution_count": null,
   "id": "063857c1",
   "metadata": {},
   "outputs": [],
   "source": []
  }
 ],
 "metadata": {
  "kernelspec": {
   "display_name": "Python 3",
   "language": "python",
   "name": "python3"
  },
  "language_info": {
   "codemirror_mode": {
    "name": "ipython",
    "version": 3
   },
   "file_extension": ".py",
   "mimetype": "text/x-python",
   "name": "python",
   "nbconvert_exporter": "python",
   "pygments_lexer": "ipython3",
   "version": "3.8.8"
  }
 },
 "nbformat": 4,
 "nbformat_minor": 5
}
